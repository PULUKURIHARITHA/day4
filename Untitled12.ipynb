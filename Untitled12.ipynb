{
 "cells": [
  {
   "cell_type": "code",
   "execution_count": null,
   "id": "977fb490-da64-4209-b211-5c7da91645f2",
   "metadata": {},
   "outputs": [],
   "source": [
    "num=int(input(\"enter the number between 1-7:\"))\n",
    "if num==1:print(\"Sunday\")\n",
    "elif num==7:print(\"monday\")\n",
    "elif num==2:print(\"Tuesday\")\n",
    "elif num==3:print(\"Wednesday\")\n",
    "elif num==4:print(\"Thursday\")\n",
    "elif num==5:print(\"Friday\")\n",
    "elif num==6:print(\"Saturday\")\n",
    "else:print(\"wrong input\")"
   ]
  }
 ],
 "metadata": {
  "kernelspec": {
   "display_name": "Python 3 (ipykernel)",
   "language": "python",
   "name": "python3"
  },
  "language_info": {
   "codemirror_mode": {
    "name": "ipython",
    "version": 3
   },
   "file_extension": ".py",
   "mimetype": "text/x-python",
   "name": "python",
   "nbconvert_exporter": "python",
   "pygments_lexer": "ipython3",
   "version": "3.12.7"
  }
 },
 "nbformat": 4,
 "nbformat_minor": 5
}
