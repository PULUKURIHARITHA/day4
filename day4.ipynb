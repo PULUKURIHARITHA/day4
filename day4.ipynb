{
 "cells": [
  {
   "cell_type": "code",
   "execution_count": null,
   "id": "e1efd26c-a2f5-43cd-82af-8d36e2bd6b93",
   "metadata": {},
   "outputs": [],
   "source": [
    "location={\n",
    "    (40.7128,-73.070):\"New york\",\n",
    "    (34.0522,-119.2347):\"swezerland\",}\n",
    "print(location[40.7128,-73.070])"
   ]
  }
 ],
 "metadata": {
  "kernelspec": {
   "display_name": "Python 3 (ipykernel)",
   "language": "python",
   "name": "python3"
  },
  "language_info": {
   "codemirror_mode": {
    "name": "ipython",
    "version": 3
   },
   "file_extension": ".py",
   "mimetype": "text/x-python",
   "name": "python",
   "nbconvert_exporter": "python",
   "pygments_lexer": "ipython3",
   "version": "3.12.7"
  }
 },
 "nbformat": 4,
 "nbformat_minor": 5
}
